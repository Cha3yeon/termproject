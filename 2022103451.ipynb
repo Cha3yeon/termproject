{
 "cells": [
  {
   "cell_type": "markdown",
   "id": "a25e3e72",
   "metadata": {},
   "source": [
    "# Term Project -대학별 평균 등록금 분석\n",
    "## 2022103451 한채연\n"
   ]
  },
  {
   "cell_type": "markdown",
   "id": "2403c9ec",
   "metadata": {},
   "source": [
    "## 1) 주제 선정 이유\n",
    " \n",
    " 작년, 입시를 할때에 저는 대학원서를 쓰기 위해 제가 진학을 원하는 대학들의 등록금에 대해 알아본 경험이 있습니다. 하지만 다양한 대학교들의 평균 등록금을 하나하나 조사해보고 비교하는 것은 상당히 번거로운 일이었습니다. 저는 우리 나라에 있는 대학들의 평균 등록금을 한눈에 파악할 수 있게 정리하여, 저와 같은 고민을 가진 저의 재수생 친구들에게 도움이 되기 위해 이 주제를 선택하였습니다."
   ]
  },
  {
   "cell_type": "markdown",
   "id": "d0ecf848",
   "metadata": {},
   "source": [
    "## 2) 가설 정의\n",
    "\n",
    " 이 프로젝트에서 저는 다양한 대학교들의 등록금을 한눈에 파악할 수 있도록 1) 국내  대학에서 평균 등록금 top 15의 대학 순위, 2) 한 지역의 평균 등록금 top 5 대학 순위, 3) 각 지역의 평균 등록금 top 5의 평균값을 나타낸 그래프, 4) 한 대학교가 속한 지역과 평균 등록금을 분석할 수 있는 코드를 작성할 계획입니다."
   ]
  },
  {
   "cell_type": "markdown",
   "id": "d0ed9f51",
   "metadata": {},
   "source": [
    "## 3) 인터넷을 통한 데이터 획득\n",
    "\n",
    "위와 같은 분석을 진행하기 위해서 공공 데이터 포털(http://www.data.go.kr/index.do)에서 한국 장학 재단이 제공하는 <대학별 평균등록금_20220430> csv 파일을 pandas를 이용하여 열었습니다. 또한 다운 받은 csv파일에서 분석에 필요하지 않은 정보들은 삭제했습니다."
   ]
  },
  {
   "cell_type": "markdown",
   "id": "9b40048c",
   "metadata": {},
   "source": [
    "#### pandas 호출 및 pandas가 한번에 반환할 수 있는 행의 갯수 확인 및 늘리기."
   ]
  },
  {
   "cell_type": "code",
   "execution_count": 1,
   "id": "b9a945a4",
   "metadata": {},
   "outputs": [],
   "source": [
    "# pandas 호출하기\n",
    "import pandas as pd\n",
    "\n",
    "# pandas가 한번에 반환할 수 있는 행의 갯수 늘리기\n",
    "pd.options.display.max_rows=9999"
   ]
  },
  {
   "cell_type": "markdown",
   "id": "658318ca",
   "metadata": {},
   "source": [
    "#### csv 파일 열기(한글 전용 인코딩 방식 사용)¶"
   ]
  },
  {
   "cell_type": "code",
   "execution_count": 2,
   "id": "a6bb69de",
   "metadata": {},
   "outputs": [],
   "source": [
    "# csv 파일 열기\n",
    "campus_price=pd.read_csv('한국장학재단_대학별 평균등록금_20220430.csv',encoding='cp949')\n",
    "\n",
    "# 필요없는 열 지우기\n",
    "campus_price=campus_price.drop(['설립별','입학정원 합(명)','평균입학금(원)','학제별'],axis=1)"
   ]
  },
  {
   "cell_type": "markdown",
   "id": "cda8f77a",
   "metadata": {},
   "source": [
    "## 4) 분석을 위한 데이터의 가공\n",
    "\n",
    "pandas를 사용하여 연 파일을 분석에 용이하도록 4가지 방식으로 가공할 것입니다.\n",
    "\n",
    "1) 전체 대학 평균 등록금 top 15를 구하고 함수로 출력하기\n",
    "\n",
    "2) 한 지역의 등록금 top 5와 top 5의 평균 구하고 함수로 출력하기\n",
    "\n",
    "3) 지역별 top 5의 평균 등록금을 그래프로 구하고 함수로 출력하기\n",
    "\n",
    "4) 국내에 위치한 한 대학을 입력했을 때 그 대학이 속한 지역, 평균 등록금 구하고 함수로 출력하기\n",
    "\n",
    "5) 1)~4)에서 작성한 각각의 함수를 result_1() 함수에 넣기\n",
    "\n",
    "아래에서 1)~5)의 과정을 확인할 수 있습니다.\n"
   ]
  },
  {
   "cell_type": "markdown",
   "id": "9f076fbf",
   "metadata": {},
   "source": [
    "####  1)전체 대학 평균 등록금 top 15 나타내기¶"
   ]
  },
  {
   "cell_type": "code",
   "execution_count": 3,
   "id": "c763b1e1",
   "metadata": {
    "scrolled": false
   },
   "outputs": [
    {
     "name": "stdout",
     "output_type": "stream",
     "text": [
      "<class 'pandas.core.frame.DataFrame'>\n",
      "RangeIndex: 388 entries, 0 to 387\n",
      "Data columns (total 3 columns):\n",
      " #   Column    Non-Null Count  Dtype \n",
      "---  ------    --------------  ----- \n",
      " 0   대학명       388 non-null    object\n",
      " 1   지역별       388 non-null    object\n",
      " 2   평균등록금(원)  388 non-null    int64 \n",
      "dtypes: int64(1), object(2)\n",
      "memory usage: 9.2+ KB\n"
     ]
    }
   ],
   "source": [
    "# info통해 총 대학 수 파악하기\n",
    "campus_price.info()"
   ]
  },
  {
   "cell_type": "code",
   "execution_count": 4,
   "id": "262936ec",
   "metadata": {
    "scrolled": false
   },
   "outputs": [
    {
     "data": {
      "text/html": [
       "<div>\n",
       "<style scoped>\n",
       "    .dataframe tbody tr th:only-of-type {\n",
       "        vertical-align: middle;\n",
       "    }\n",
       "\n",
       "    .dataframe tbody tr th {\n",
       "        vertical-align: top;\n",
       "    }\n",
       "\n",
       "    .dataframe thead th {\n",
       "        text-align: right;\n",
       "    }\n",
       "</style>\n",
       "<table border=\"1\" class=\"dataframe\">\n",
       "  <thead>\n",
       "    <tr style=\"text-align: right;\">\n",
       "      <th></th>\n",
       "      <th>대학명</th>\n",
       "      <th>지역별</th>\n",
       "      <th>평균등록금(원)</th>\n",
       "    </tr>\n",
       "    <tr>\n",
       "      <th>순위</th>\n",
       "      <th></th>\n",
       "      <th></th>\n",
       "      <th></th>\n",
       "    </tr>\n",
       "  </thead>\n",
       "  <tbody>\n",
       "    <tr>\n",
       "      <th>1</th>\n",
       "      <td>한국공학대학교</td>\n",
       "      <td>경기</td>\n",
       "      <td>9034616</td>\n",
       "    </tr>\n",
       "    <tr>\n",
       "      <th>2</th>\n",
       "      <td>한국에너지공과대학교</td>\n",
       "      <td>전남</td>\n",
       "      <td>9000000</td>\n",
       "    </tr>\n",
       "    <tr>\n",
       "      <th>3</th>\n",
       "      <td>연세대학교</td>\n",
       "      <td>서울</td>\n",
       "      <td>8949735</td>\n",
       "    </tr>\n",
       "    <tr>\n",
       "      <th>4</th>\n",
       "      <td>추계예술대학교</td>\n",
       "      <td>서울</td>\n",
       "      <td>8778884</td>\n",
       "    </tr>\n",
       "    <tr>\n",
       "      <th>5</th>\n",
       "      <td>신한대학교</td>\n",
       "      <td>경기</td>\n",
       "      <td>8714105</td>\n",
       "    </tr>\n",
       "    <tr>\n",
       "      <th>6</th>\n",
       "      <td>이화여자대학교</td>\n",
       "      <td>서울</td>\n",
       "      <td>8689951</td>\n",
       "    </tr>\n",
       "    <tr>\n",
       "      <th>7</th>\n",
       "      <td>을지대학교</td>\n",
       "      <td>대전</td>\n",
       "      <td>8492904</td>\n",
       "    </tr>\n",
       "    <tr>\n",
       "      <th>8</th>\n",
       "      <td>한양대학교</td>\n",
       "      <td>서울</td>\n",
       "      <td>8486720</td>\n",
       "    </tr>\n",
       "    <tr>\n",
       "      <th>9</th>\n",
       "      <td>한국항공대학교</td>\n",
       "      <td>경기</td>\n",
       "      <td>8465834</td>\n",
       "    </tr>\n",
       "    <tr>\n",
       "      <th>10</th>\n",
       "      <td>성균관대학교</td>\n",
       "      <td>서울</td>\n",
       "      <td>8381038</td>\n",
       "    </tr>\n",
       "    <tr>\n",
       "      <th>11</th>\n",
       "      <td>홍익대학교</td>\n",
       "      <td>서울</td>\n",
       "      <td>8372669</td>\n",
       "    </tr>\n",
       "    <tr>\n",
       "      <th>12</th>\n",
       "      <td>고려대학교</td>\n",
       "      <td>서울</td>\n",
       "      <td>8311022</td>\n",
       "    </tr>\n",
       "    <tr>\n",
       "      <th>13</th>\n",
       "      <td>대구예술대학교</td>\n",
       "      <td>경북</td>\n",
       "      <td>8293452</td>\n",
       "    </tr>\n",
       "    <tr>\n",
       "      <th>14</th>\n",
       "      <td>가천대학교</td>\n",
       "      <td>경기</td>\n",
       "      <td>8263207</td>\n",
       "    </tr>\n",
       "    <tr>\n",
       "      <th>15</th>\n",
       "      <td>아주대학교</td>\n",
       "      <td>경기</td>\n",
       "      <td>8262018</td>\n",
       "    </tr>\n",
       "  </tbody>\n",
       "</table>\n",
       "</div>"
      ],
      "text/plain": [
       "           대학명 지역별  평균등록금(원)\n",
       "순위                          \n",
       "1      한국공학대학교  경기   9034616\n",
       "2   한국에너지공과대학교  전남   9000000\n",
       "3        연세대학교  서울   8949735\n",
       "4      추계예술대학교  서울   8778884\n",
       "5        신한대학교  경기   8714105\n",
       "6      이화여자대학교  서울   8689951\n",
       "7        을지대학교  대전   8492904\n",
       "8        한양대학교  서울   8486720\n",
       "9      한국항공대학교  경기   8465834\n",
       "10      성균관대학교  서울   8381038\n",
       "11       홍익대학교  서울   8372669\n",
       "12       고려대학교  서울   8311022\n",
       "13     대구예술대학교  경북   8293452\n",
       "14       가천대학교  경기   8263207\n",
       "15       아주대학교  경기   8262018"
      ]
     },
     "execution_count": 4,
     "metadata": {},
     "output_type": "execute_result"
    }
   ],
   "source": [
    "# 평균 등록금 순으로 대학교 나열하기\n",
    "high_price=campus_price.sort_values(by='평균등록금(원)',ascending=False)\n",
    "\n",
    "# dataframe의 index를 '순위'로 정렬하기\n",
    "high_price.index=range(1,389)\n",
    "high_price['순위']=range(1,389)\n",
    "high_price=high_price.set_index(keys=['순위'],inplace=False, drop=True)\n",
    "\n",
    "# 전체 대학 등록금 top 15 나타내기\n",
    "term_1=high_price[0:15]\n",
    "\n",
    "\n",
    "#  전체 대학 등록금 top 15 출력해보기\n",
    "term_1\n"
   ]
  },
  {
   "cell_type": "code",
   "execution_count": 5,
   "id": "8d3f01ab",
   "metadata": {},
   "outputs": [],
   "source": [
    "# 전체 평균 등록금 top 15 나타내는 함수 만들기(dataframe 깔끔하게 정리하기)\n",
    "from pandas import DataFrame\n",
    "def top_15():\n",
    "    print(pd.DataFrame.stack(term_1,level=-1, dropna=True))"
   ]
  },
  {
   "cell_type": "markdown",
   "id": "f108db65",
   "metadata": {},
   "source": [
    "####  2) 한 지역의 등록금  top 5와  top 5의 평균 나타내기"
   ]
  },
  {
   "cell_type": "code",
   "execution_count": 6,
   "id": "10ba75e5",
   "metadata": {
    "scrolled": false
   },
   "outputs": [
    {
     "data": {
      "text/html": [
       "<div>\n",
       "<style scoped>\n",
       "    .dataframe tbody tr th:only-of-type {\n",
       "        vertical-align: middle;\n",
       "    }\n",
       "\n",
       "    .dataframe tbody tr th {\n",
       "        vertical-align: top;\n",
       "    }\n",
       "\n",
       "    .dataframe thead th {\n",
       "        text-align: right;\n",
       "    }\n",
       "</style>\n",
       "<table border=\"1\" class=\"dataframe\">\n",
       "  <thead>\n",
       "    <tr style=\"text-align: right;\">\n",
       "      <th></th>\n",
       "      <th>대학명</th>\n",
       "      <th>지역별</th>\n",
       "      <th>평균등록금(원)</th>\n",
       "    </tr>\n",
       "    <tr>\n",
       "      <th>순위</th>\n",
       "      <th></th>\n",
       "      <th></th>\n",
       "      <th></th>\n",
       "    </tr>\n",
       "  </thead>\n",
       "  <tbody>\n",
       "    <tr>\n",
       "      <th>1</th>\n",
       "      <td>경동대학교</td>\n",
       "      <td>강원</td>\n",
       "      <td>7936099</td>\n",
       "    </tr>\n",
       "    <tr>\n",
       "      <th>2</th>\n",
       "      <td>한국골프대학교</td>\n",
       "      <td>강원</td>\n",
       "      <td>7887500</td>\n",
       "    </tr>\n",
       "    <tr>\n",
       "      <th>3</th>\n",
       "      <td>한림대학교</td>\n",
       "      <td>강원</td>\n",
       "      <td>7483254</td>\n",
       "    </tr>\n",
       "    <tr>\n",
       "      <th>4</th>\n",
       "      <td>가톨릭관동대학교</td>\n",
       "      <td>강원</td>\n",
       "      <td>7199666</td>\n",
       "    </tr>\n",
       "    <tr>\n",
       "      <th>5</th>\n",
       "      <td>상지대학교</td>\n",
       "      <td>강원</td>\n",
       "      <td>7171565</td>\n",
       "    </tr>\n",
       "  </tbody>\n",
       "</table>\n",
       "</div>"
      ],
      "text/plain": [
       "         대학명 지역별  평균등록금(원)\n",
       "순위                        \n",
       "1      경동대학교  강원   7936099\n",
       "2    한국골프대학교  강원   7887500\n",
       "3      한림대학교  강원   7483254\n",
       "4   가톨릭관동대학교  강원   7199666\n",
       "5      상지대학교  강원   7171565"
      ]
     },
     "execution_count": 6,
     "metadata": {},
     "output_type": "execute_result"
    }
   ],
   "source": [
    "# 각 지역을 기준으로 범주 나누기 \n",
    "each_locate=campus_price.groupby('지역별')\n",
    "\n",
    "\n",
    "# 지역별로 대학 나타내기 위해 딕셔너리 사용\n",
    "locate_dict=dict(list(each_locate))\n",
    "\n",
    "# 각 지역을 평균 등록금이 높은 순서대로 나타내고, 한 list안에 넣기\n",
    "campus_list=[]\n",
    "for i in locate_dict:\n",
    "    region=locate_dict[i]\n",
    "    region_1=region.sort_values(by='평균등록금(원)',ascending=False)\n",
    "    region_1['순위']=range(1,len(region)+1)\n",
    "    region_1.index=range(1,len(region)+1)\n",
    "    region_1=region_1.set_index(keys=['순위'],inplace=False, drop=True)\n",
    "    campus_list.append(region_1)\n",
    "    campus_top_list=[]\n",
    "    \n",
    "    #각 지역의 평균 등록금 top 5를 구해서 한 list에 넣기(세종의 경우 대학이 2개 뿐이라 top 2만을 나타냄)\n",
    "    for i in campus_list:\n",
    "        campus_top_list.append(i[0:5])\n",
    "        \n",
    "        # 각 지역의 평균 등록금 top5의 평균 구하기\n",
    "        for i in campus_top_list:\n",
    "            means=[]\n",
    "            means.append(i['평균등록금(원)'].mean())\n",
    "\n",
    "#강원도의 등록금 top 5 대학 출력해보기\n",
    "campus_top_list[0]"
   ]
  },
  {
   "cell_type": "code",
   "execution_count": 7,
   "id": "110b023e",
   "metadata": {
    "scrolled": false
   },
   "outputs": [
    {
     "data": {
      "text/plain": [
       "{'강원': 7535616.8,\n",
       " '경기': 8547956.0,\n",
       " '경남': 6782651.2,\n",
       " '경북': 7648763.4,\n",
       " '광주': 6703981.4,\n",
       " '대구': 6506212.6,\n",
       " '대전': 7515941.8,\n",
       " '부산': 6853650.6,\n",
       " '서울': 8657265.6,\n",
       " '세종': 5917194.0,\n",
       " '울산': 5617955.2,\n",
       " '인천': 6915011.8,\n",
       " '전남': 7136519.2,\n",
       " '전북': 7432166.0,\n",
       " '제주': 4357419.8,\n",
       " '충남': 7874414.8,\n",
       " '충북': 7436608.0}"
      ]
     },
     "execution_count": 7,
     "metadata": {},
     "output_type": "execute_result"
    }
   ],
   "source": [
    "#각 지역의 top 5와 각 지역 Top 5의 평균을 딕셔너리로 묶어서 나타내기}\n",
    "region_mean=[7535616.8, 8547956.0, 6782651.2, 7648763.4, 6703981.4, 6506212.6 ,7515941.8 ,6853650.6 ,8657265.6, 5917194.0, 5617955.2, 6915011.8, 7136519.2, 7432166.0, 4357419.8, 7874414.8, 7436608.0]\n",
    "region_name=['강원','경기','경남','경북','광주','대구','대전','부산','서울','세종','울산','인천','전남','전북','제주', '충남', '충북']\n",
    "region_fin={}\n",
    "for i in range(len(region_mean)):\n",
    "    region_fin[region_name[i]]= region_mean[i]\n",
    "    \n",
    "# 각 지역의 top 5와 각 지역 Top 5의 평균 출력해보기\n",
    "region_fin"
   ]
  },
  {
   "cell_type": "code",
   "execution_count": 8,
   "id": "2d9972b0",
   "metadata": {},
   "outputs": [],
   "source": [
    "# 한 지역의 평균 등록금 top 5와 이 top 5의 평균 등록금 값 나타내는 함수 만들기\n",
    "def top_mean():\n",
    "    while True:\n",
    "        print('\\U0001F4D7''\\033[1m평균 등록금 top 5와 그 평균을 알고 싶은 시 또는 도를 입력하세요(ex: 강원)\\033[0m')\n",
    "        answer_1=input()\n",
    "        region_name_1=['강원','경기','경남','경북','광주','대구','대전','부산','서울','울산','인천','전남','전북','제주', '충남', '충북']\n",
    "        \n",
    "        if answer_1 in region_name_1:\n",
    "            a= region_name.index(answer_1)\n",
    "            print('\\033[1m\\033[4m'+answer_1+'의 평균 top 5의 그래프는 아래와 같으며')\n",
    "            print(answer_1+'의 평균 등록금 top 5 대학의 평균값은 '+str(region_fin[answer_1])+' 입니다'+'\\033[0m' )\n",
    "            print(pd.DataFrame.stack(campus_top_list[a],level=-1, dropna=True))\n",
    "            break\n",
    "            \n",
    "        elif answer_1=='세종':\n",
    "            print('\\033[1m\\033[4m'+answer_1+'의 평균 top 2의 그래프는 아래와 같으며')\n",
    "            print(answer_1+'의 평균 등록금 top 2 대학의 평균값은 '+str(region_fin[answer_1])+' 입니다'+'\\033[0m' )\n",
    "            print(pd.DataFrame.stack(campus_top_list[9],level=-1, dropna=True))\n",
    "            break\n",
    "            \n",
    "        else:\n",
    "            print('\\033[1m\\033[31m'+answer_1+'은(는) 존재하지 않는 지역명입니다')\n",
    "            print('철자가 옳은지 다시 한번 확인해 주세요'+'\\033[0m')\n",
    "    "
   ]
  },
  {
   "cell_type": "markdown",
   "id": "e06cdf87",
   "metadata": {},
   "source": [
    "#### 3) 지역별 top 5의 평균 등록금을 그래프로 나타내주는 함수 만들기"
   ]
  },
  {
   "cell_type": "code",
   "execution_count": 9,
   "id": "2bf77257",
   "metadata": {},
   "outputs": [],
   "source": [
    "# 그래프를 그리기 위해 matplotlib 과 numpy 호출하기\n",
    "import matplotlib.pyplot as plt\n",
    "import numpy as np"
   ]
  },
  {
   "cell_type": "code",
   "execution_count": 10,
   "id": "89b916b3",
   "metadata": {
    "scrolled": false
   },
   "outputs": [],
   "source": [
    "#한글 폰트 사용하기 위한 코드\n",
    "plt.rc('font', family='Malgun Gothic')\n",
    "plt.rcParams['axes.unicode_minus'] = False\n",
    "\n",
    "#그래프 그리는 함수 만들기\n",
    "def region_top_graph():\n",
    "    x=np.array(['강원','경기','경남','경북','광주','대구','대전','부산','서울','세종','울산','인천','전남','전북','제주', '충남', '충북'])\n",
    "    y=np. array([7535616.8, 8547956.0, 6782651.2, 7648763.4, 6703981.4, 6506212.6 ,7515941.8 ,6853650.6 ,8657265.6, 5917194.0, 5617955.2, 6915011.8, 7136519.2, 7432166.0, 4357419.8, 7874414.8, 7436608.0])\n",
    "    plt.bar(x,y,color='#9370DB')\n",
    "    plt.xlabel('시도명')\n",
    "    plt.ylabel('평균등록금(원)')\n",
    "    plt.xticks(ticks=x, labels=x, rotation=45)\n",
    "    font={'family':'serif','color':'black','size':20}\n",
    "    plt.title('Average tuition by region',fontdict=font)\n",
    "    plt.show()\n",
    "\n"
   ]
  },
  {
   "cell_type": "code",
   "execution_count": 11,
   "id": "ba502159",
   "metadata": {},
   "outputs": [
    {
     "data": {
      "image/png": "[encoded data removed]",
      "text/plain": [
       "<Figure size 432x288 with 1 Axes>"
      ]
     },
     "metadata": {
      "needs_background": "light"
     },
     "output_type": "display_data"
    }
   ],
   "source": [
    "# 함수 호출해보기\n",
    "region_top_graph()"
   ]
  },
  {
   "cell_type": "markdown",
   "id": "3781d2cd",
   "metadata": {},
   "source": [
    "#### 4) 국내에 위치한 한 대학을 입력했을 때 그 대학이 속한 지역, 평균 등록금 출력해주는 코드 만들기"
   ]
  },
  {
   "cell_type": "code",
   "execution_count": 12,
   "id": "1a178cb3",
   "metadata": {
    "scrolled": true
   },
   "outputs": [
    {
     "name": "stdout",
     "output_type": "stream",
     "text": [
      "{'강릉원주대학교': '강원', '강원대학교': '강원', '경남과학기술대학교': '경남', '경북대학교': '대구', '경상국립대학교': '경남', '경인교육대학교': '인천', '공주교육대학교': '충남', '공주대학교': '충남', '광주과학기술원': '광주', '광주교육대학교': '광주', '군산대학교': '전북', '금오공과대학교': '경북', '대구경북과학기술원': '대구', '대구교육대학교': '대구', '목포대학교': '전남', '목포해양대학교': '전남', '부경대학교': '부산', '부산교육대학교': '부산', '부산대학교': '부산', '서울과학기술대학교': '서울', '서울교육대학교': '서울', '서울대학교': '서울', '서울시립대학교': '서울', '순천대학교': '전남', '안동대학교': '경북', '울산과학기술원': '울산', '인천대학교': '인천', '전남대학교': '광주', '전북대학교': '전북', '전주교육대학교': '전북', '제주대학교': '제주', '진주교육대학교': '경남', '창원대학교': '경남', '청주교육대학교': '충북', '춘천교육대학교': '강원', '충남대학교': '대전', '충북대학교': '충북', '한경대학교': '경기', '한국과학기술원': '대전', '한국교원대학교': '충북', '한국교통대학교': '충북', '한국에너지공과대학교': '전남', '한국예술종합학교': '서울', '한국전통문화대학교(일반)': '충남', '한국체육대학교': '서울', '한국해양대학교': '부산', '한밭대학교': '대전', '가야대학교(김해)': '경남', '가천대학교': '경기', '가톨릭관동대학교': '강원', '가톨릭꽃동네대학교': '충북', '가톨릭대학교': '경기', '감리교신학대학교': '서울', '강남대학교': '경기', '건국대학교': '서울', '건양대학교': '충남', '경기대학교': '경기', '경남대학교': '경남', '경동대학교': '강원', '경성대학교': '부산', '경운대학교': '경북', '경일대학교': '경북', '경주대학교': '경북', '경희대학교': '서울', '계명대학교': '대구', '고려대학교': '서울', '고신대학교': '부산', '광신대학교': '광주', '광운대학교': '서울', '광주가톨릭대학교': '전남', '광주대학교': '광주', '광주여자대학교': '광주', '국민대학교': '서울', '극동대학교': '충북', '금강대학교': '충남', '김천대학교': '경북', '나사렛대학교': '충남', '남부대학교': '광주', '남서울대학교': '충남', '단국대학교': '경기', '대구가톨릭대학교': '경북', '대구대학교': '경북', '대구예술대학교': '경북', '대구한의대학교': '경북', '대신대학교': '경북', '대전가톨릭대학교': '세종', '대전대학교': '대전', '대전신학대학교': '대전', '대진대학교': '경기', '덕성여자대학교': '서울', '동국대학교': '서울', '동덕여자대학교': '서울', '동명대학교': '부산', '동서대학교': '부산', '동신대학교': '전남', '동아대학교': '부산', '동양대학교': '경북', '동의대학교': '부산', '루터대학교': '경기', '명지대학교': '경기', '목원대학교': '대전', '목포가톨릭대학교': '전남', '배재대학교': '대전', '백석대학교': '충남', '부산가톨릭대학교': '부산', '부산외국어대학교': '부산', '부산장신대학교': '경남', '삼육대학교': '서울', '상명대학교': '서울', '상지대학교': '강원', '서강대학교': '서울', '서경대학교': '서울', '서울기독대학교': '서울', '서울신학대학교': '경기', '서울여자대학교': '서울', '서울장신대학교': '경기', '서울한영대학교': '서울', '서원대학교': '충북', '선문대학교': '충남', '성결대학교': '경기', '성공회대학교': '서울', '성균관대학교': '서울', '성신여자대학교': '서울', '세명대학교': '충북', '세종대학교': '서울', '세한대학교': '전남', '송원대학교': '광주', '수원가톨릭대학교': '경기', '수원대학교': '경기', '숙명여자대학교': '서울', '순복음총회신학교': '충북', '순천향대학교': '충남', '숭실대학교': '서울', '신경대학교': '경기', '신라대학교': '부산', '신한대학교': '경기', '아신대학교': '경기', '아주대학교': '경기', '안양대학교': '경기', '연세대학교': '서울', '영남대학교': '경북', '영남신학대학교': '경북', '영산대학교': '경남', '영산선학대학교': '전남', '예수대학교': '전북', '예원예술대학교': '전북', '용인대학교': '경기', '우석대학교': '전북', '우송대학교': '대전', '울산대학교': '울산', '원광대학교': '전북', '위덕대학교': '경북', '유원대학교': '충북', '을지대학교': '대전', '이화여자대학교': '서울', '인제대학교': '경남', '인천가톨릭대학교': '인천', '인하대학교': '인천', '장로회신학대학교': '서울', '전주대학교': '전북', '제주국제대학교': '제주', '조선대학교': '광주', '중부대학교': '충남', '중앙대학교': '서울', '중앙승가대학교': '경기', '중원대학교': '충북', '차의과학대학교': '경기', '창신대학교': '경남', '청운대학교': '충남', '청주대학교': '충북', '초당대학교': '전남', '총신대학교': '서울', '추계예술대학교': '서울', '칼빈대학교': '경기', '케이씨대학교': '서울', '평택대학교': '경기', '포항공과대학교': '경북', '한국공학대학교': '경기', '한국국제대학교': '경남', '한국기술교육대학교': '충남', '한국성서대학교': '서울', '한국외국어대학교': '서울', '한국침례신학대학교': '대전', '한국항공대학교': '경기', '한남대학교': '대전', '한동대학교': '경북', '한라대학교': '강원', '한림대학교': '강원', '한서대학교': '충남', '한성대학교': '서울', '한세대학교': '경기', '한신대학교': '경기', '한양대학교': '서울', '한일장신대학교': '전북', '협성대학교': '경기', '호남대학교': '광주', '호남신학대학교': '광주', '호서대학교': '충남', '호원대학교': '전북', '홍익대학교': '서울', '강원도립대학교': '강원', '경남도립거창대학': '경남', '경남도립남해대학': '경남', '경북도립대학교': '경북', '전남도립대학교': '전남', '충남도립대학교': '충남', '충북도립대학교': '충북', '한국농수산대학(일반)': '전북', '한국복지대학교': '경기', 'ICT폴리텍대학': '경기', '가톨릭상지대학교': '경북', '강동대학교': '충북', '강릉영동대학교': '강원', '강원관광대학교': '강원', '거제대학교': '경남', '경기과학기술대학교': '경기', '경남정보대학교': '부산', '경민대학교': '경기', '경복대학교': '경기', '경북과학대학교': '경북', '경북보건대학교': '경북', '경북전문대학교': '경북', '경인여자대학교': '인천', '계명문화대학교': '대구', '계원예술대학교': '경기', '고구려대학교': '전남', '광양보건대학교': '전남', '광주보건대학교': '광주', '구미대학교': '경북', '국제대학교': '경기', '군산간호대학교': '전북', '군장대학교': '전북', '기독간호대학교': '광주', '김포대학교': '경기', '김해대학교': '경남', '농협대학교': '경기', '대경대학교': '경북', '대구공업대학교': '대구', '대구과학대학교': '대구', '대구보건대학교': '대구', '대덕대학교': '대전', '대동대학교': '부산', '대림대학교': '경기', '대원대학교': '충북', '대전과학기술대학교': '대전', '대전보건대학교': '대전', '동강대학교': '광주', '동남보건대학교': '경기', '동서울대학교': '경기', '동아방송예술대학교': '경기', '동아보건대학교': '전남', '동양미래대학교': '서울', '동원과학기술대학교': '경남', '동원대학교': '경기', '동의과학대학교': '부산', '동주대학교': '부산', '두원공과대학교': '경기', '마산대학교': '경남', '명지전문대학': '서울', '목포과학대학교': '전남', '문경대학교': '경북', '배화여자대학교': '서울', '백석문화대학교': '충남', '백제예술대학교': '전북', '부산경상대학교': '부산', '부산과학기술대학교': '부산', '부산여자대학교': '부산', '부산예술대학교': '부산', '부천대학교': '경기', '삼육보건대학교': '서울', '서라벌대학교': '경북', '서영대학교': '광주', '서울여자간호대학교': '서울', '서울예술대학교': '경기', '서일대학교': '서울', '서정대학교': '경기', '선린대학교': '경북', '성운대학교': '경북', '세경대학교': '강원', '송곡대학교': '강원', '송호대학교': '강원', '수성대학교': '대구', '수원과학대학교': '경기', '수원여자대학교': '경기', '순천제일대학교': '전남', '숭의여자대학교': '서울', '신구대학교': '경기', '신성대학교': '충남', '신안산대학교': '경기', '아주자동차대학': '충남', '안동과학대학교': '경북', '안산대학교': '경기', '여주대학교': '경기', '연성대학교': '경기', '연암공과대학교': '경남', '연암대학교': '충남', '영남외국어대학': '경북', '영남이공대학교': '대구', '영진전문대학교': '대구', '오산대학교': '경기', '용인예술과학대학교': '경기', '우송정보대학': '대전', '울산과학대학교': '울산', '웅지세무대학교': '경기', '원광보건대학교': '전북', '유한대학교': '경기', '인덕대학교': '서울', '인천재능대학교': '인천', '인하공업전문대학': '인천', '장안대학교': '경기', '전남과학대학교': '전남', '전북과학대학교': '전북', '전주기전대학': '전북', '전주비전대학교': '전북', '제주관광대학교': '제주', '제주한라대학교': '제주', '조선간호대학교': '광주', '조선이공대학교': '광주', '진주보건대학교': '경남', '창원문성대학교': '경남', '청강문화산업대학교': '경기', '청암대학교': '전남', '춘해보건대학교': '울산', '충북보건과학대학교': '충북', '충청대학교': '충북', '포항대학교': '경북', '한국골프대학교': '강원', '한국관광대학교': '경기', '한국승강기대학교': '경남', '한국영상대학교': '세종', '한국폴리텍 I 대학 서울강서캠퍼스': '서울', '한국폴리텍 I 대학 서울정수캠퍼스': '서울', '한국폴리텍 I 대학 성남캠퍼스': '경기', '한국폴리텍 I 대학 제주캠퍼스': '제주', '한국폴리텍 II 대학 남인천캠퍼스': '인천', '한국폴리텍 II 대학 인천캠퍼스': '인천', '한국폴리텍 II 대학 화성캠퍼스': '경기', '한국폴리텍 III 대학 강릉캠퍼스': '강원', '한국폴리텍 III 대학 원주캠퍼스': '강원', '한국폴리텍 III 대학 춘천캠퍼스': '강원', '한국폴리텍 IV 대학 대전캠퍼스': '대전', '한국폴리텍 IV 대학 아산캠퍼스': '충남', '한국폴리텍 IV 대학 청주캠퍼스': '충북', '한국폴리텍 IV 대학 홍성캠퍼스': '충남', '한국폴리텍 V 대학 광주캠퍼스': '광주', '한국폴리텍 V 대학 순천캠퍼스': '전남', '한국폴리텍 V 대학 익산캠퍼스': '전북', '한국폴리텍 V 대학 전남캠퍼스': '전남', '한국폴리텍 V 대학 전북캠퍼스': '전북', '한국폴리텍 VI 대학 구미캠퍼스': '경북', '한국폴리텍 VI 대학 대구캠퍼스': '대구', '한국폴리텍 VI 대학 영남융합기술캠퍼스': '대구', '한국폴리텍 VI 대학 영주캠퍼스': '경북', '한국폴리텍 VII 대학 동부산캠퍼스': '부산', '한국폴리텍 VII 대학 부산캠퍼스': '부산', '한국폴리텍 VII 대학 울산캠퍼스': '울산', '한국폴리텍 VII 대학 진주캠퍼스': '경남', '한국폴리텍 VII 대학 창원캠퍼스': '경남', '한국폴리텍 특성화대학 로봇캠퍼스': '경북', '한국폴리텍 특성화대학 바이오캠퍼스': '충남', '한국폴리텍 특성화대학 반도체융합캠퍼스': '경기', '한국폴리텍 특성화대학 항공캠퍼스': '경남', '한림성심대학교': '강원', '한양여자대학교': '서울', '한영대학교': '전남', '혜전대학교': '충남', '호산대학교': '경북', '한국방송통신대학교': '서울', '건양사이버대학교': '대전', '경희사이버대학교': '서울', '고려사이버대학교': '서울', '국제사이버대학교': '경기', '글로벌사이버대학교': '충남', '대구사이버대학교': '경북', '디지털서울문화예술대학교': '서울', '부산디지털대학교': '부산', '사이버한국외국어대학교': '서울', '서울디지털대학교': '서울', '서울사이버대학교': '서울', '세종사이버대학교': '서울', '숭실사이버대학교': '서울', '영진사이버대학교': '대구', '원광디지털대학교': '전북', '정석대학': '서울', '한국복지사이버대학': '경북', '한국열린사이버대학교': '서울', '한양사이버대학교': '서울', '화신사이버대학교': '부산'}\n"
     ]
    }
   ],
   "source": [
    "# column '지역별', '평균 등록금(원)', '대학명'에 속한 각각의 데이터 얻기\n",
    "data_a=campus_price['지역별']\n",
    "data_b=campus_price['평균등록금(원)']\n",
    "data_c=campus_price['대학명']\n",
    "\n",
    "# 세개의 list를 만들어서 column '지역별', '평균 등록금(원)', '대학명'에 속한 각각의 데이터 넣기\n",
    "eRigion=[]\n",
    "for i in data_a:\n",
    "    eRigion.append(i)\n",
    "\n",
    "eMoney=[]    \n",
    "for i in data_b:\n",
    "    eMoney.append(i)\n",
    "\n",
    "eName=[]\n",
    "for i in data_c:\n",
    "    eName.append(i)\n",
    "\n",
    "# 대학 이름: 대학이 속한 지역/ 대학 이름: 그 대학의 등록금을 나타내는 딕셔너리 만들기\n",
    "dictionary_1=dict(zip(eName,eRigion))\n",
    "dictionary_2=dict(zip(eName, eMoney))\n",
    "\n",
    "# 예시로 dictionary_1 출력해보기\n",
    "print(dictionary_1)"
   ]
  },
  {
   "cell_type": "code",
   "execution_count": 13,
   "id": "a6b6dbdc",
   "metadata": {},
   "outputs": [],
   "source": [
    "#한 대학을 입력했을 때 그 대학이 속한 지역과 평균 등록금 출력하는 함수 만들기\n",
    "def choose_campus():\n",
    "    \n",
    "    while True:\n",
    "        print('\\U0001F4D5''\\033[1m지역과 평균 등록금을 알고싶은 대학교의 이름을 띄어쓰기 없이 입력하세요 ex-경희대학교\\033[0m')\n",
    "        answer_2=input()\n",
    "        print()\n",
    "        \n",
    "        if answer_2 in dictionary_1:\n",
    "            print('\\033[1m\\033[4m'+ answer_2+ '가 속한 지역은 '+dictionary_1[answer_2]+'이며 평균등록금은 '+str(dictionary_2[answer_2])+'원 입니다'+'\\033[0m')\n",
    "            break\n",
    "            \n",
    "        else:\n",
    "            print('\\033[1m\\033[31m' + answer_2+' 은(는) 존재하지 않는 대학명입니다')\n",
    "            print('철자가 옳은지 다시 한번 확인해주세요'+'\\033[0m')   "
   ]
  },
  {
   "cell_type": "markdown",
   "id": "493d9768",
   "metadata": {},
   "source": [
    "#### 5) 결론 도출 위한 코드 작성하기"
   ]
  },
  {
   "cell_type": "code",
   "execution_count": 14,
   "id": "ba4bdcfc",
   "metadata": {},
   "outputs": [],
   "source": [
    "def result_1():\n",
    "    print('\\033[1m\\033[4m우리나라에 속한 대학교의 등록금 관련 정보를 얻을 수 있는 프로그램입니다\\033[0m')\n",
    "    \n",
    "    while True:\n",
    "        print()\n",
    "        print()\n",
    "        print('\\U0001F340','\\033[1m\\033[2m국내 대학 중 평균 등록금이 높은 top 15개의 대학---> 1')\n",
    "        print('\\U0001F340','각 지역의 대학 중 평균 등록금이 높은 top 5 대학의 등록금 평균 그래프---> 2 ')\n",
    "        print('\\U0001F340''한 대학을 입력했을 때 그 대학의 지역과 평균 등록금---> 3')\n",
    "        print('\\U0001F340' '한 지역의 등록금 top5와 그 top 5의 평균---> 4 ')\n",
    "        print('\\U0001F6D1''\\033[1m\\033[31m프로그램 종료--->0\\033[1m\\033[0m')\n",
    "        print()\n",
    "        print('\\U0001F50E''\\033[1m\\033[1m알고 싶은 정보를 가리키는 숫자를 입력해주세요\\033[0m')\n",
    "        answer=input()\n",
    "        print()\n",
    "        \n",
    "        if answer=='1':\n",
    "            print('\\U0001F4A1''\\033[1m국내에서 평균 등록금이 가장 높은 top 15개의 대학에 대한 정보를 선택하셨습니다\\033[0m')\n",
    "            print()\n",
    "            top_15()\n",
    "            \n",
    "        elif answer=='2':\n",
    "            print('\\U0001F4A1''\\033[1m각 지역에 속한 대학 중 평균 등록금이 높은 top 5 대학의 등록금 평균 그래프에 대한 정보를 선택하셨습니다\\033[0m')\n",
    "            region_top_graph()\n",
    "            \n",
    "        elif answer=='3':\n",
    "            print('\\U0001F4A1''\\033[1m한 대학을 입력했을 때 그 대학의 지역과 평균 등록금에 대한 정보를 선택하셨습니다\\033[0m')\n",
    "            print()\n",
    "            choose_campus()\n",
    "            \n",
    "        elif answer=='4':\n",
    "            print('\\U0001F4A1''\\033[1m한 지역의 평균 등록금 top5 대학과 그 top5 대학의 평균 등록금에 대한 정보를 선택하셨습니다\\033[0m')\n",
    "            top_mean()\n",
    "           \n",
    "        elif answer=='0':\n",
    "            print('\\033[1m프로그램을 종료합니다\\033[0m')\n",
    "            break\n",
    "        \n",
    "        else:\n",
    "            print('🚨''\\033[1m\\033[31m잘못된 입력입니다 다시 입력해주세요\\033[0m')            "
   ]
  },
  {
   "cell_type": "markdown",
   "id": "52c5a6ad",
   "metadata": {},
   "source": [
    "## 5) 분석 결과 도출"
   ]
  },
  {
   "cell_type": "markdown",
   "id": "e32ccd00",
   "metadata": {},
   "source": [
    "#### Restart & Run All을 누르면 코드 자동 실행"
   ]
  },
  {
   "cell_type": "code",
   "execution_count": 15,
   "id": "d1fc8060",
   "metadata": {
    "scrolled": true
   },
   "outputs": [
    {
     "name": "stdout",
     "output_type": "stream",
     "text": [
      "\u001b[1m\u001b[4m우리나라에 속한 대학교의 등록금 관련 정보를 얻을 수 있는 프로그램입니다\u001b[0m\n",
      "\n",
      "\n",
      "🍀 \u001b[1m\u001b[2m국내 대학 중 평균 등록금이 높은 top 15개의 대학---> 1\n",
      "🍀 각 지역의 대학 중 평균 등록금이 높은 top 5 대학의 등록금 평균 그래프---> 2 \n",
      "🍀한 대학을 입력했을 때 그 대학의 지역과 평균 등록금---> 3\n",
      "🍀한 지역의 등록금 top5와 그 top 5의 평균---> 4 \n",
      "🛑\u001b[1m\u001b[31m프로그램 종료--->0\u001b[1m\u001b[0m\n",
      "\n",
      "🔎\u001b[1m\u001b[1m알고 싶은 정보를 가리키는 숫자를 입력해주세요\u001b[0m\n",
      "1\n",
      "\n",
      "💡\u001b[1m국내에서 평균 등록금이 가장 높은 top 15개의 대학에 대한 정보를 선택하셨습니다\u001b[0m\n",
      "\n",
      "순위          \n",
      "1   대학명            한국공학대학교\n",
      "    지역별                 경기\n",
      "    평균등록금(원)       9034616\n",
      "2   대학명         한국에너지공과대학교\n",
      "    지역별                 전남\n",
      "    평균등록금(원)       9000000\n",
      "3   대학명              연세대학교\n",
      "    지역별                 서울\n",
      "    평균등록금(원)       8949735\n",
      "4   대학명            추계예술대학교\n",
      "    지역별                 서울\n",
      "    평균등록금(원)       8778884\n",
      "5   대학명              신한대학교\n",
      "    지역별                 경기\n",
      "    평균등록금(원)       8714105\n",
      "6   대학명            이화여자대학교\n",
      "    지역별                 서울\n",
      "    평균등록금(원)       8689951\n",
      "7   대학명              을지대학교\n",
      "    지역별                 대전\n",
      "    평균등록금(원)       8492904\n",
      "8   대학명              한양대학교\n",
      "    지역별                 서울\n",
      "    평균등록금(원)       8486720\n",
      "9   대학명            한국항공대학교\n",
      "    지역별                 경기\n",
      "    평균등록금(원)       8465834\n",
      "10  대학명             성균관대학교\n",
      "    지역별                 서울\n",
      "    평균등록금(원)       8381038\n",
      "11  대학명              홍익대학교\n",
      "    지역별                 서울\n",
      "    평균등록금(원)       8372669\n",
      "12  대학명              고려대학교\n",
      "    지역별                 서울\n",
      "    평균등록금(원)       8311022\n",
      "13  대학명            대구예술대학교\n",
      "    지역별                 경북\n",
      "    평균등록금(원)       8293452\n",
      "14  대학명              가천대학교\n",
      "    지역별                 경기\n",
      "    평균등록금(원)       8263207\n",
      "15  대학명              아주대학교\n",
      "    지역별                 경기\n",
      "    평균등록금(원)       8262018\n",
      "dtype: object\n",
      "\n",
      "\n",
      "🍀 \u001b[1m\u001b[2m국내 대학 중 평균 등록금이 높은 top 15개의 대학---> 1\n",
      "🍀 각 지역의 대학 중 평균 등록금이 높은 top 5 대학의 등록금 평균 그래프---> 2 \n",
      "🍀한 대학을 입력했을 때 그 대학의 지역과 평균 등록금---> 3\n",
      "🍀한 지역의 등록금 top5와 그 top 5의 평균---> 4 \n",
      "🛑\u001b[1m\u001b[31m프로그램 종료--->0\u001b[1m\u001b[0m\n",
      "\n",
      "🔎\u001b[1m\u001b[1m알고 싶은 정보를 가리키는 숫자를 입력해주세요\u001b[0m\n",
      "2\n",
      "\n",
      "💡\u001b[1m각 지역에 속한 대학 중 평균 등록금이 높은 top 5 대학의 등록금 평균 그래프에 대한 정보를 선택하셨습니다\u001b[0m\n"
     ]
    },
    {
     "data": {
      "image/png": "[encoded data removed]",
      "text/plain": [
       "<Figure size 432x288 with 1 Axes>"
      ]
     },
     "metadata": {
      "needs_background": "light"
     },
     "output_type": "display_data"
    },
    {
     "name": "stdout",
     "output_type": "stream",
     "text": [
      "\n",
      "\n",
      "🍀 \u001b[1m\u001b[2m국내 대학 중 평균 등록금이 높은 top 15개의 대학---> 1\n",
      "🍀 각 지역의 대학 중 평균 등록금이 높은 top 5 대학의 등록금 평균 그래프---> 2 \n",
      "🍀한 대학을 입력했을 때 그 대학의 지역과 평균 등록금---> 3\n",
      "🍀한 지역의 등록금 top5와 그 top 5의 평균---> 4 \n",
      "🛑\u001b[1m\u001b[31m프로그램 종료--->0\u001b[1m\u001b[0m\n",
      "\n",
      "🔎\u001b[1m\u001b[1m알고 싶은 정보를 가리키는 숫자를 입력해주세요\u001b[0m\n",
      "3\n",
      "\n",
      "💡\u001b[1m한 대학을 입력했을 때 그 대학의 지역과 평균 등록금에 대한 정보를 선택하셨습니다\u001b[0m\n",
      "\n",
      "📕\u001b[1m지역과 평균 등록금을 알고싶은 대학교의 이름을 띄어쓰기 없이 입력하세요 ex-경희대학교\u001b[0m\n",
      "경희대학교\n",
      "\n",
      "\u001b[1m\u001b[4m경희대학교가 속한 지역은 서울이며 평균등록금은 7938355원 입니다\u001b[0m\n",
      "\n",
      "\n",
      "🍀 \u001b[1m\u001b[2m국내 대학 중 평균 등록금이 높은 top 15개의 대학---> 1\n",
      "🍀 각 지역의 대학 중 평균 등록금이 높은 top 5 대학의 등록금 평균 그래프---> 2 \n",
      "🍀한 대학을 입력했을 때 그 대학의 지역과 평균 등록금---> 3\n",
      "🍀한 지역의 등록금 top5와 그 top 5의 평균---> 4 \n",
      "🛑\u001b[1m\u001b[31m프로그램 종료--->0\u001b[1m\u001b[0m\n",
      "\n",
      "🔎\u001b[1m\u001b[1m알고 싶은 정보를 가리키는 숫자를 입력해주세요\u001b[0m\n",
      "4\n",
      "\n",
      "💡\u001b[1m한 지역의 평균 등록금 top5 대학과 그 top5 대학의 평균 등록금에 대한 정보를 선택하셨습니다\u001b[0m\n",
      "📗\u001b[1m평균 등록금 top 5와 그 평균을 알고 싶은 시 또는 도를 입력하세요(ex: 강원)\u001b[0m\n",
      "강원\n",
      "\u001b[1m\u001b[4m강원의 평균 top 5의 그래프는 아래와 같으며\n",
      "강원의 평균 등록금 top 5 대학의 평균값은 7535616.8 입니다\u001b[0m\n",
      "순위          \n",
      "1   대학명            경동대학교\n",
      "    지역별               강원\n",
      "    평균등록금(원)     7936099\n",
      "2   대학명          한국골프대학교\n",
      "    지역별               강원\n",
      "    평균등록금(원)     7887500\n",
      "3   대학명            한림대학교\n",
      "    지역별               강원\n",
      "    평균등록금(원)     7483254\n",
      "4   대학명         가톨릭관동대학교\n",
      "    지역별               강원\n",
      "    평균등록금(원)     7199666\n",
      "5   대학명            상지대학교\n",
      "    지역별               강원\n",
      "    평균등록금(원)     7171565\n",
      "dtype: object\n",
      "\n",
      "\n",
      "🍀 \u001b[1m\u001b[2m국내 대학 중 평균 등록금이 높은 top 15개의 대학---> 1\n",
      "🍀 각 지역의 대학 중 평균 등록금이 높은 top 5 대학의 등록금 평균 그래프---> 2 \n",
      "🍀한 대학을 입력했을 때 그 대학의 지역과 평균 등록금---> 3\n",
      "🍀한 지역의 등록금 top5와 그 top 5의 평균---> 4 \n",
      "🛑\u001b[1m\u001b[31m프로그램 종료--->0\u001b[1m\u001b[0m\n",
      "\n",
      "🔎\u001b[1m\u001b[1m알고 싶은 정보를 가리키는 숫자를 입력해주세요\u001b[0m\n",
      "0\n",
      "\n",
      "\u001b[1m프로그램을 종료합니다\u001b[0m\n"
     ]
    }
   ],
   "source": [
    "result_1()"
   ]
  },
  {
   "cell_type": "markdown",
   "id": "7c84b184",
   "metadata": {},
   "source": [
    "## 6) 결론\n",
    "\n",
    "저는 이번 텀 프로젝트를 통해 국내에 있는 대학교의 평균 등록금에 관한 분석을 진행했습니다. \n",
    "\n",
    "먼저 분석 결과에 대해 이야기해 보자면,이 프로그램은 대학 등록금에 대한 정보를 필요로 하는 사용자들을 위해 평균 등록금을 기준으로 하여 1) 전체 대학 평균 등록금 top 15 제공 2) 한 지역의 등록금 top 5와 top 5의 평균 제공, 3) 지역별 top 5의 평균 등록금 그래프 제공, 4) 국내에 위치한 대학을 입력 시 그 대학이 속한 지역, 평균 등록금 제공과 같이 4가지 방식으로 데이터를 가공하여 분석하였습니다. 이러한 분석을 통해 패턴 없이 존재했던 원본 파일을 사용자가 쉽게 파악할 수 있게 되었습니다. \n",
    "\n",
    "다만, 이 프로그램이 제공하는 기능이 한정적이라는 점, 사용자에게서 원하는 대학명을 입력받을 때 'oo대학교'가 아닌'oo대' ,'oo', 혹은 캠퍼스를 구분하지 않고 입력하였을 때 에러가 나는 점, 또한 사용자에게서 원하는 시도명을 입력받을때 'oo'이 아닌 'oo도' 혹은 'oo시'라고 입력하였을 때 에러가 나는 점은 앞으로 더 개선 되어야할 부분입니다.\n"
   ]
  },
  {
   "cell_type": "markdown",
   "id": "975dba36",
   "metadata": {},
   "source": [
    "\n",
    "\n",
    "## 7) 참고문헌\n",
    "- 파이썬으로 데이터 주무르기 독특한 예제를 통해 배우는 데이터 분석 입문,민형기, 비제이퍼블릭, 2017.12.29.\n",
    "- https://www.w3schools.com/python/pandas/pandas_correlations.asp\n",
    "-https://www.w3schools.com/python/matplotlib_bars.asp\n",
    "- https://unicode-table.com/kr/emoji/#link-objects\n",
    "- https://www.geeksforgeeks.org/python-convert-a-list-to-dictionary/\n",
    "- https://www.w3schools.com/python/numpy/default.asp\n",
    "- https://stackoverflow.com/questions/8924173/how-can-i-print-bold-text-in-python\n",
    "- https://pandas.pydata.org/docs/reference/api/pandas.DataFrame.set_index.html\n",
    "- https://www.analyticsvidhya.com/blog/2020/02/beginner-guide-matplotlib-data-visualization-exploration-python/"
   ]
  },
  {
   "cell_type": "markdown",
   "id": "50d9e90b",
   "metadata": {},
   "source": [
    "## 8) 3)의 데이터 원본\n",
    "- https://www.data.go.kr/data/3071171/fileData.do (한국장학재단_대학별 평균등록금)"
   ]
  },
  {
   "cell_type": "markdown",
   "id": "28976de0",
   "metadata": {},
   "source": [
    "## 9)  4)의 가공된 데이터 원본\n",
    "별첨"
   ]
  },
  {
   "cell_type": "markdown",
   "id": "50a4044c",
   "metadata": {},
   "source": [
    "## 10) 3)을 4)로 변환하는 등의 작업을 위하여 직접 개발한 Python 소스코드 원본\n",
    "별첨"
   ]
  }
 ],
 "metadata": {
  "kernelspec": {
   "display_name": "Python 3 (ipykernel)",
   "language": "python",
   "name": "python3"
  },
  "language_info": {
   "codemirror_mode": {
    "name": "ipython",
    "version": 3
   },
   "file_extension": ".py",
   "mimetype": "text/x-python",
   "name": "python",
   "nbconvert_exporter": "python",
   "pygments_lexer": "ipython3",
   "version": "3.9.12"
  }
 },
 "nbformat": 4,
 "nbformat_minor": 5
}
